{
 "cells": [
  {
   "cell_type": "code",
   "execution_count": 16,
   "metadata": {
    "colab": {
     "base_uri": "https://localhost:8080/",
     "height": 17
    },
    "id": "0S-Ih-EMqITt",
    "outputId": "bc1744d3-2c7b-49cf-90e3-076fce205e6b"
   },
   "outputs": [],
   "source": [
    "# EH:  Import the required libraries and dependencies\n",
    "import os\n",
    "import requests\n",
    "import pandas as pd\n",
    "from dotenv import load_dotenv\n",
    "from dotenv import find_dotenv\n",
    "from pathlib import Path\n",
    "import hvplot.pandas\n",
    "import holoviews as hv\n",
    "from pandas.tseries.offsets import QuarterEnd\n",
    "\n"
   ]
  },
  {
   "cell_type": "markdown",
   "metadata": {
    "id": "ukzPhwJ9be2J"
   },
   "source": [
    "#Data Gathering"
   ]
  },
  {
   "cell_type": "code",
   "execution_count": 17,
   "metadata": {
    "colab": {
     "base_uri": "https://localhost:8080/"
    },
    "id": "01HUKl33q6sx",
    "outputId": "2c635bce-8b36-4e74-ca5a-79fd3858c6b5"
   },
   "outputs": [
    {
     "data": {
      "text/plain": [
       "Sector     0\n",
       "Ticker     0\n",
       "Company    0\n",
       "dtype: int64"
      ]
     },
     "execution_count": 17,
     "metadata": {},
     "output_type": "execute_result"
    }
   ],
   "source": [
    "#EH: import stock pool list\n",
    "\n",
    "stockpool_list_df=pd.read_csv(\n",
    "    \"Resources/sector_list_v2.txt\",\n",
    "    sep=';'\n",
    ")\n",
    "\n",
    "#EH: check blank count\n",
    "stockpool_list_df.isnull().sum() "
   ]
  },
  {
   "cell_type": "code",
   "execution_count": 18,
   "metadata": {
    "colab": {
     "base_uri": "https://localhost:8080/",
     "height": 206
    },
    "id": "qB0w6mrBy4m8",
    "outputId": "0b1c0bbf-1e16-4fe3-9f0c-442fb67c0b8b"
   },
   "outputs": [
    {
     "data": {
      "text/html": [
       "<div>\n",
       "<style scoped>\n",
       "    .dataframe tbody tr th:only-of-type {\n",
       "        vertical-align: middle;\n",
       "    }\n",
       "\n",
       "    .dataframe tbody tr th {\n",
       "        vertical-align: top;\n",
       "    }\n",
       "\n",
       "    .dataframe thead th {\n",
       "        text-align: right;\n",
       "    }\n",
       "</style>\n",
       "<table border=\"1\" class=\"dataframe\">\n",
       "  <thead>\n",
       "    <tr style=\"text-align: right;\">\n",
       "      <th></th>\n",
       "      <th>Sector</th>\n",
       "      <th>ticker</th>\n",
       "      <th>Company</th>\n",
       "    </tr>\n",
       "  </thead>\n",
       "  <tbody>\n",
       "    <tr>\n",
       "      <th>0</th>\n",
       "      <td>Commercial Services</td>\n",
       "      <td>SPGI</td>\n",
       "      <td>S&amp;P Global Inc.</td>\n",
       "    </tr>\n",
       "    <tr>\n",
       "      <th>1</th>\n",
       "      <td>Commercial Services</td>\n",
       "      <td>MCO</td>\n",
       "      <td>Moody’s Corporation</td>\n",
       "    </tr>\n",
       "    <tr>\n",
       "      <th>2</th>\n",
       "      <td>Commercial Services</td>\n",
       "      <td>CPRT</td>\n",
       "      <td>Copart, Inc.</td>\n",
       "    </tr>\n",
       "    <tr>\n",
       "      <th>3</th>\n",
       "      <td>Commercial Services</td>\n",
       "      <td>EFX</td>\n",
       "      <td>Equifax, Inc.</td>\n",
       "    </tr>\n",
       "    <tr>\n",
       "      <th>4</th>\n",
       "      <td>Commercial Services</td>\n",
       "      <td>FLT</td>\n",
       "      <td>FleetCor Technologies, Inc.</td>\n",
       "    </tr>\n",
       "  </tbody>\n",
       "</table>\n",
       "</div>"
      ],
      "text/plain": [
       "                Sector ticker                      Company\n",
       "0  Commercial Services   SPGI              S&P Global Inc.\n",
       "1  Commercial Services    MCO          Moody’s Corporation\n",
       "2  Commercial Services   CPRT                 Copart, Inc.\n",
       "3  Commercial Services    EFX                Equifax, Inc.\n",
       "4  Commercial Services    FLT  FleetCor Technologies, Inc."
      ]
     },
     "execution_count": 18,
     "metadata": {},
     "output_type": "execute_result"
    }
   ],
   "source": [
    "#EH: review stockpool dataframe\n",
    "stockpool_list_df.rename(columns={'Ticker':'ticker'},inplace=True)\n",
    "stockpool_list_df.head()"
   ]
  },
  {
   "cell_type": "code",
   "execution_count": 19,
   "metadata": {
    "colab": {
     "base_uri": "https://localhost:8080/"
    },
    "id": "k68oUpy-y4tf",
    "outputId": "ecfe6b1c-5b0e-4eae-e2ab-21809d6b4596"
   },
   "outputs": [
    {
     "data": {
      "text/plain": [
       "['Commercial Services',\n",
       " 'Communications',\n",
       " 'Consumer Durables',\n",
       " 'Consumer Non-Durables',\n",
       " 'Consumer Services',\n",
       " 'Distribution Services',\n",
       " 'Electronic Technology',\n",
       " 'Energy Minerals',\n",
       " 'Finance',\n",
       " 'Health Services',\n",
       " 'Health Technology',\n",
       " 'Industrial Services',\n",
       " 'Non-Energy Minerals',\n",
       " 'Process Industries',\n",
       " 'Producer Manufacturing',\n",
       " 'Retail Trade',\n",
       " 'Technology Services',\n",
       " 'Transportation',\n",
       " 'Utilities']"
      ]
     },
     "execution_count": 19,
     "metadata": {},
     "output_type": "execute_result"
    }
   ],
   "source": [
    "#EH: list of sector\n",
    "sector_list=list(stockpool_list_df['Sector'].unique())\n",
    "sector_list"
   ]
  },
  {
   "cell_type": "code",
   "execution_count": 20,
   "metadata": {
    "colab": {
     "base_uri": "https://localhost:8080/",
     "height": 424
    },
    "id": "TVTnaJCGy9KX",
    "outputId": "5dacc682-5a88-4824-e068-f8021078b2b8"
   },
   "outputs": [
    {
     "data": {
      "text/html": [
       "<div>\n",
       "<style scoped>\n",
       "    .dataframe tbody tr th:only-of-type {\n",
       "        vertical-align: middle;\n",
       "    }\n",
       "\n",
       "    .dataframe tbody tr th {\n",
       "        vertical-align: top;\n",
       "    }\n",
       "\n",
       "    .dataframe thead th {\n",
       "        text-align: right;\n",
       "    }\n",
       "</style>\n",
       "<table border=\"1\" class=\"dataframe\">\n",
       "  <thead>\n",
       "    <tr style=\"text-align: right;\">\n",
       "      <th></th>\n",
       "      <th>Sector</th>\n",
       "      <th>ticker</th>\n",
       "      <th>Company</th>\n",
       "      <th>Company_Ticker</th>\n",
       "    </tr>\n",
       "  </thead>\n",
       "  <tbody>\n",
       "    <tr>\n",
       "      <th>0</th>\n",
       "      <td>Commercial Services</td>\n",
       "      <td>SPGI</td>\n",
       "      <td>S&amp;P Global Inc.</td>\n",
       "      <td>S&amp;P Global Inc. (SPGI)</td>\n",
       "    </tr>\n",
       "    <tr>\n",
       "      <th>1</th>\n",
       "      <td>Commercial Services</td>\n",
       "      <td>MCO</td>\n",
       "      <td>Moody’s Corporation</td>\n",
       "      <td>Moody’s Corporation (MCO)</td>\n",
       "    </tr>\n",
       "    <tr>\n",
       "      <th>2</th>\n",
       "      <td>Commercial Services</td>\n",
       "      <td>CPRT</td>\n",
       "      <td>Copart, Inc.</td>\n",
       "      <td>Copart, Inc. (CPRT)</td>\n",
       "    </tr>\n",
       "    <tr>\n",
       "      <th>3</th>\n",
       "      <td>Commercial Services</td>\n",
       "      <td>EFX</td>\n",
       "      <td>Equifax, Inc.</td>\n",
       "      <td>Equifax, Inc. (EFX)</td>\n",
       "    </tr>\n",
       "    <tr>\n",
       "      <th>4</th>\n",
       "      <td>Commercial Services</td>\n",
       "      <td>FLT</td>\n",
       "      <td>FleetCor Technologies, Inc.</td>\n",
       "      <td>FleetCor Technologies, Inc. (FLT)</td>\n",
       "    </tr>\n",
       "    <tr>\n",
       "      <th>...</th>\n",
       "      <td>...</td>\n",
       "      <td>...</td>\n",
       "      <td>...</td>\n",
       "      <td>...</td>\n",
       "    </tr>\n",
       "    <tr>\n",
       "      <th>484</th>\n",
       "      <td>Utilities</td>\n",
       "      <td>LNT</td>\n",
       "      <td>Alliant Energy Corporation</td>\n",
       "      <td>Alliant Energy Corporation (LNT)</td>\n",
       "    </tr>\n",
       "    <tr>\n",
       "      <th>485</th>\n",
       "      <td>Utilities</td>\n",
       "      <td>ATO</td>\n",
       "      <td>Atmos Energy Corporation</td>\n",
       "      <td>Atmos Energy Corporation (ATO)</td>\n",
       "    </tr>\n",
       "    <tr>\n",
       "      <th>486</th>\n",
       "      <td>Utilities</td>\n",
       "      <td>NI</td>\n",
       "      <td>NiSource Inc</td>\n",
       "      <td>NiSource Inc (NI)</td>\n",
       "    </tr>\n",
       "    <tr>\n",
       "      <th>487</th>\n",
       "      <td>Utilities</td>\n",
       "      <td>NRG</td>\n",
       "      <td>NRG Energy, Inc.</td>\n",
       "      <td>NRG Energy, Inc. (NRG)</td>\n",
       "    </tr>\n",
       "    <tr>\n",
       "      <th>488</th>\n",
       "      <td>Utilities</td>\n",
       "      <td>PNW</td>\n",
       "      <td>Pinnacle West Capital Corporation</td>\n",
       "      <td>Pinnacle West Capital Corporation (PNW)</td>\n",
       "    </tr>\n",
       "  </tbody>\n",
       "</table>\n",
       "<p>489 rows × 4 columns</p>\n",
       "</div>"
      ],
      "text/plain": [
       "                  Sector ticker                            Company  \\\n",
       "0    Commercial Services   SPGI                    S&P Global Inc.   \n",
       "1    Commercial Services    MCO                Moody’s Corporation   \n",
       "2    Commercial Services   CPRT                       Copart, Inc.   \n",
       "3    Commercial Services    EFX                      Equifax, Inc.   \n",
       "4    Commercial Services    FLT        FleetCor Technologies, Inc.   \n",
       "..                   ...    ...                                ...   \n",
       "484            Utilities    LNT         Alliant Energy Corporation   \n",
       "485            Utilities    ATO           Atmos Energy Corporation   \n",
       "486            Utilities     NI                       NiSource Inc   \n",
       "487            Utilities    NRG                   NRG Energy, Inc.   \n",
       "488            Utilities    PNW  Pinnacle West Capital Corporation   \n",
       "\n",
       "                              Company_Ticker  \n",
       "0                     S&P Global Inc. (SPGI)  \n",
       "1                  Moody’s Corporation (MCO)  \n",
       "2                        Copart, Inc. (CPRT)  \n",
       "3                        Equifax, Inc. (EFX)  \n",
       "4          FleetCor Technologies, Inc. (FLT)  \n",
       "..                                       ...  \n",
       "484         Alliant Energy Corporation (LNT)  \n",
       "485           Atmos Energy Corporation (ATO)  \n",
       "486                        NiSource Inc (NI)  \n",
       "487                   NRG Energy, Inc. (NRG)  \n",
       "488  Pinnacle West Capital Corporation (PNW)  \n",
       "\n",
       "[489 rows x 4 columns]"
      ]
     },
     "execution_count": 20,
     "metadata": {},
     "output_type": "execute_result"
    }
   ],
   "source": [
    "#EH: add column to join company name with ticker\n",
    "\n",
    "stockpool_list_df['Company_Ticker']=stockpool_list_df['Company']+' ('+stockpool_list_df['ticker']+')'\n",
    "stockpool_list_df"
   ]
  },
  {
   "cell_type": "code",
   "execution_count": 21,
   "metadata": {
    "colab": {
     "base_uri": "https://localhost:8080/"
    },
    "id": "w1iK7zJfy--C",
    "outputId": "5ad3724c-f671-4530-a3ca-b44b0b151b6d"
   },
   "outputs": [
    {
     "data": {
      "text/plain": [
       "0                       S&P Global Inc. (SPGI)\n",
       "1                    Moody’s Corporation (MCO)\n",
       "2                          Copart, Inc. (CPRT)\n",
       "3                          Equifax, Inc. (EFX)\n",
       "4            FleetCor Technologies, Inc. (FLT)\n",
       "                        ...                   \n",
       "484           Alliant Energy Corporation (LNT)\n",
       "485             Atmos Energy Corporation (ATO)\n",
       "486                          NiSource Inc (NI)\n",
       "487                     NRG Energy, Inc. (NRG)\n",
       "488    Pinnacle West Capital Corporation (PNW)\n",
       "Name: Company_Ticker, Length: 489, dtype: object"
      ]
     },
     "execution_count": 21,
     "metadata": {},
     "output_type": "execute_result"
    }
   ],
   "source": [
    "#EH:  create list for company ticker list\n",
    "\n",
    "company_ticker_list=stockpool_list_df['Company_Ticker']\n",
    "company_ticker_list"
   ]
  },
  {
   "cell_type": "code",
   "execution_count": 22,
   "metadata": {
    "colab": {
     "base_uri": "https://localhost:8080/"
    },
    "id": "gR1A7V_zrEX2",
    "outputId": "3f66ec26-93da-47e4-de15-13bebabdc34f"
   },
   "outputs": [
    {
     "data": {
      "text/plain": [
       "True"
      ]
     },
     "execution_count": 22,
     "metadata": {},
     "output_type": "execute_result"
    }
   ],
   "source": [
    "#EH: load env file\n",
    "load_dotenv()\n"
   ]
  },
  {
   "cell_type": "code",
   "execution_count": 23,
   "metadata": {
    "colab": {
     "base_uri": "https://localhost:8080/",
     "height": 35
    },
    "id": "0iTosNl917ex",
    "outputId": "54ae7d68-220e-41fa-8161-83ed004daf1e"
   },
   "outputs": [
    {
     "data": {
      "text/plain": [
       "'C:\\\\Users\\\\eunic\\\\onedrive\\\\desktop\\\\FinTech-Workspace\\\\Project2\\\\.env'"
      ]
     },
     "execution_count": 23,
     "metadata": {},
     "output_type": "execute_result"
    }
   ],
   "source": [
    "\n",
    "#EH: Find env file\n",
    "find_dotenv()"
   ]
  },
  {
   "cell_type": "code",
   "execution_count": 24,
   "metadata": {
    "colab": {
     "base_uri": "https://localhost:8080/"
    },
    "id": "WRj-iToQrJ89",
    "outputId": "6327f728-5a52-4f95-fdae-2891a9d7baae"
   },
   "outputs": [
    {
     "name": "stdout",
     "output_type": "stream",
     "text": [
      "<class 'str'>\n"
     ]
    }
   ],
   "source": [
    "#EH:  check alpha key\n",
    "\n",
    "alpha_api_key=os.getenv('ALPHA_API_KEY')\n",
    "print(type(alpha_api_key))"
   ]
  },
  {
   "cell_type": "code",
   "execution_count": 25,
   "metadata": {
    "id": "YblQXE7PrKHm"
   },
   "outputs": [],
   "source": [
    "#EH:  create stock close price df from Alpha data\n",
    "\n",
    "def alpha_daily_data(stock, api, days_of_record):\n",
    "    data_url=\"https://www.alphavantage.co/query?function=TIME_SERIES_DAILY&symbol=\" + stock + \"&outputsize=full&apikey=\" + api\n",
    "    r = requests.get(data_url)\n",
    "    data = r.json()\n",
    "    df=pd.DataFrame(data['Time Series (Daily)']).T.rename(columns={'1. open':'open','2. high':'high','3. low':'low','4. close':'close','5. volume':'volume'})\n",
    "    df=df.reset_index()\n",
    "    df['index']=pd.to_datetime(df['index'])\n",
    "    df['QEdate']=pd.to_datetime(df['index'],format='%Y%m')+QuarterEnd(1)\n",
    "    df=df.set_index('index')\n",
    "    df.index.name='date'\n",
    "    df.index=pd.to_datetime(df.index)\n",
    "    df['close']=df['close'].astype('float64')\n",
    "    df=df.iloc[:days_of_record]\n",
    "    df.drop(columns=['open','high','low','volume'],inplace=True)\n",
    "    \n",
    "\n",
    "\n",
    "    return df"
   ]
  },
  {
   "cell_type": "code",
   "execution_count": 26,
   "metadata": {
    "id": "GjbSflzyWXZD"
   },
   "outputs": [],
   "source": [
    "#EH: Compile QE_ROI function of a ticker\n",
    "\n",
    "\n",
    "def roi_compile(df):\n",
    "  qe_list=list(df['QEdate'].unique())\n",
    "  qe_roi_df=pd.DataFrame()\n",
    "  for num in range(len(qe_list)):\n",
    "    qe_roi_df=qe_roi_df.append(df[df['QEdate']==qe_list[num]].iloc[0])\n",
    "    qe_roi_df['q_roi']=qe_roi_df['close'].pct_change(periods=-1)\n",
    "\n",
    "  \n",
    "  return qe_roi_df\n",
    "\n"
   ]
  },
  {
   "cell_type": "code",
   "execution_count": 28,
   "metadata": {
    "id": "6d2eFUh01zao"
   },
   "outputs": [],
   "source": [
    "# EH: import cashflow function\n",
    "\n",
    "\n",
    "def cash(stock):\n",
    "    cash_url='https://www.alphavantage.co/query?function=CASH_FLOW&symbol='+stock+'&apikey='+ alpha_api_key\n",
    "    r = requests.get(cash_url)\n",
    "    data = r.json()\n",
    "    cash_compile=pd.DataFrame()\n",
    "    for num in range(len(data['quarterlyReports'])):\n",
    "        ind=list(data['quarterlyReports'][num].keys())\n",
    "        cash_df=pd.DataFrame(data['quarterlyReports'][num],index=ind)\n",
    "        cash_df.reset_index(inplace=True,drop=True)\n",
    "        cash_df=cash_df.iloc[0]\n",
    "        cash_df['ticker']=stock\n",
    "        cash_compile=cash_compile.append(cash_df)\n",
    "        cash_compile['fiscalDateEnding']=pd.to_datetime(cash_compile['fiscalDateEnding'])\n",
    "    \n",
    "    cash_compile.set_index('fiscalDateEnding',inplace=True)\n",
    "\n",
    "    return cash_compile\n"
   ]
  },
  {
   "cell_type": "code",
   "execution_count": 29,
   "metadata": {
    "id": "JSAY-PP82CNZ"
   },
   "outputs": [],
   "source": [
    "#EH: Get EPS function\n",
    "def eps(stock):\n",
    "    eps_url='https://www.alphavantage.co/query?function=EARNINGS&symbol='+stock+'&apikey='+ alpha_api_key\n",
    "    r = requests.get(eps_url)\n",
    "    data = r.json()\n",
    "    # return data['quarterlyEarnings']\n",
    "    eps_compile=pd.DataFrame()\n",
    "    for num in range(len(data['quarterlyEarnings'])):\n",
    "        key_list=data['quarterlyEarnings'][num].keys()\n",
    "        eps_df=pd.DataFrame(data['quarterlyEarnings'][num],index=key_list)\n",
    "        eps_df.reset_index(drop=True,inplace=True)\n",
    "        eps_df=eps_df.iloc[0]\n",
    "        eps_df=eps_df.drop(columns=['reportedDate'])\n",
    "        eps_df['ticker']=stock\n",
    "        eps_compile=eps_compile.append(eps_df)\n",
    "    eps_compile.set_index('fiscalDateEnding',inplace=True)\n",
    "    eps_compile=eps_compile.drop(['reportedDate'],axis=1)\n",
    "\n",
    "\n",
    "    return eps_compile"
   ]
  },
  {
   "cell_type": "code",
   "execution_count": 30,
   "metadata": {
    "colab": {
     "base_uri": "https://localhost:8080/",
     "height": 206
    },
    "id": "j8qfE5Jy2WMP",
    "outputId": "87a545c2-170c-4295-9cd1-e42e9b71512e"
   },
   "outputs": [
    {
     "data": {
      "text/html": [
       "<div>\n",
       "<style scoped>\n",
       "    .dataframe tbody tr th:only-of-type {\n",
       "        vertical-align: middle;\n",
       "    }\n",
       "\n",
       "    .dataframe tbody tr th {\n",
       "        vertical-align: top;\n",
       "    }\n",
       "\n",
       "    .dataframe thead th {\n",
       "        text-align: right;\n",
       "    }\n",
       "</style>\n",
       "<table border=\"1\" class=\"dataframe\">\n",
       "  <thead>\n",
       "    <tr style=\"text-align: right;\">\n",
       "      <th></th>\n",
       "      <th>date</th>\n",
       "      <th>value</th>\n",
       "    </tr>\n",
       "  </thead>\n",
       "  <tbody>\n",
       "    <tr>\n",
       "      <th>date</th>\n",
       "      <td>2022-02-01</td>\n",
       "      <td>4.9</td>\n",
       "    </tr>\n",
       "    <tr>\n",
       "      <th>date</th>\n",
       "      <td>2022-01-01</td>\n",
       "      <td>4.9</td>\n",
       "    </tr>\n",
       "    <tr>\n",
       "      <th>date</th>\n",
       "      <td>2021-12-01</td>\n",
       "      <td>4.8</td>\n",
       "    </tr>\n",
       "    <tr>\n",
       "      <th>date</th>\n",
       "      <td>2021-11-01</td>\n",
       "      <td>4.9</td>\n",
       "    </tr>\n",
       "    <tr>\n",
       "      <th>date</th>\n",
       "      <td>2021-10-01</td>\n",
       "      <td>4.8</td>\n",
       "    </tr>\n",
       "  </tbody>\n",
       "</table>\n",
       "</div>"
      ],
      "text/plain": [
       "            date value\n",
       "date  2022-02-01   4.9\n",
       "date  2022-01-01   4.9\n",
       "date  2021-12-01   4.8\n",
       "date  2021-11-01   4.9\n",
       "date  2021-10-01   4.8"
      ]
     },
     "execution_count": 30,
     "metadata": {},
     "output_type": "execute_result"
    }
   ],
   "source": [
    "# EH:  get inflation\n",
    "\n",
    "inflation_url='https://www.alphavantage.co/query?function=INFLATION_EXPECTATION&apikey='+ alpha_api_key\n",
    "r= requests.get(inflation_url)\n",
    "data = r.json()\n",
    "\n",
    "inflation=pd.DataFrame()\n",
    "for num in range(len(data['data'])):\n",
    "\n",
    "    inflation_df=pd.DataFrame(data['data'][num],index=['date','value'])\n",
    "    inflation_df=inflation_df.iloc[0]\n",
    "    inflation=inflation.append(inflation_df)\n",
    "    \n",
    "inflation.head()"
   ]
  },
  {
   "cell_type": "code",
   "execution_count": 31,
   "metadata": {
    "colab": {
     "base_uri": "https://localhost:8080/",
     "height": 206
    },
    "id": "PWITJ5cT2WPE",
    "outputId": "7628f644-3dea-4cb6-966b-ba4ce2718969"
   },
   "outputs": [
    {
     "data": {
      "text/html": [
       "<div>\n",
       "<style scoped>\n",
       "    .dataframe tbody tr th:only-of-type {\n",
       "        vertical-align: middle;\n",
       "    }\n",
       "\n",
       "    .dataframe tbody tr th {\n",
       "        vertical-align: top;\n",
       "    }\n",
       "\n",
       "    .dataframe thead th {\n",
       "        text-align: right;\n",
       "    }\n",
       "</style>\n",
       "<table border=\"1\" class=\"dataframe\">\n",
       "  <thead>\n",
       "    <tr style=\"text-align: right;\">\n",
       "      <th></th>\n",
       "      <th>date</th>\n",
       "      <th>value</th>\n",
       "    </tr>\n",
       "  </thead>\n",
       "  <tbody>\n",
       "    <tr>\n",
       "      <th>date</th>\n",
       "      <td>2022-02-01</td>\n",
       "      <td>62.8</td>\n",
       "    </tr>\n",
       "    <tr>\n",
       "      <th>date</th>\n",
       "      <td>2022-01-01</td>\n",
       "      <td>67.2</td>\n",
       "    </tr>\n",
       "    <tr>\n",
       "      <th>date</th>\n",
       "      <td>2021-12-01</td>\n",
       "      <td>70.6</td>\n",
       "    </tr>\n",
       "    <tr>\n",
       "      <th>date</th>\n",
       "      <td>2021-11-01</td>\n",
       "      <td>67.4</td>\n",
       "    </tr>\n",
       "    <tr>\n",
       "      <th>date</th>\n",
       "      <td>2021-10-01</td>\n",
       "      <td>71.7</td>\n",
       "    </tr>\n",
       "  </tbody>\n",
       "</table>\n",
       "</div>"
      ],
      "text/plain": [
       "            date value\n",
       "date  2022-02-01  62.8\n",
       "date  2022-01-01  67.2\n",
       "date  2021-12-01  70.6\n",
       "date  2021-11-01  67.4\n",
       "date  2021-10-01  71.7"
      ]
     },
     "execution_count": 31,
     "metadata": {},
     "output_type": "execute_result"
    }
   ],
   "source": [
    "#EH:   get Consumer sentiment\n",
    "\n",
    "consumer_s_url='https://www.alphavantage.co/query?function=CONSUMER_SENTIMENT&apikey='+ alpha_api_key\n",
    "r= requests.get(consumer_s_url)\n",
    "data = r.json()\n",
    "\n",
    "consumer_s=pd.DataFrame()\n",
    "for num in range(len(data['data'])):\n",
    "\n",
    "    consumer_s_df=pd.DataFrame(data['data'][num],index=['date','value'])\n",
    "    consumer_s_df=consumer_s_df.iloc[0]\n",
    "    consumer_s=consumer_s.append(consumer_s_df)\n",
    "consumer_s.head()"
   ]
  },
  {
   "cell_type": "code",
   "execution_count": 32,
   "metadata": {
    "colab": {
     "base_uri": "https://localhost:8080/",
     "height": 238
    },
    "id": "X4UkaXHW-OKw",
    "outputId": "6ae29b84-b03b-470f-d1df-4ddf8229fea7"
   },
   "outputs": [
    {
     "data": {
      "text/html": [
       "<div>\n",
       "<style scoped>\n",
       "    .dataframe tbody tr th:only-of-type {\n",
       "        vertical-align: middle;\n",
       "    }\n",
       "\n",
       "    .dataframe tbody tr th {\n",
       "        vertical-align: top;\n",
       "    }\n",
       "\n",
       "    .dataframe thead th {\n",
       "        text-align: right;\n",
       "    }\n",
       "</style>\n",
       "<table border=\"1\" class=\"dataframe\">\n",
       "  <thead>\n",
       "    <tr style=\"text-align: right;\">\n",
       "      <th></th>\n",
       "      <th>value</th>\n",
       "    </tr>\n",
       "    <tr>\n",
       "      <th>date</th>\n",
       "      <th></th>\n",
       "    </tr>\n",
       "  </thead>\n",
       "  <tbody>\n",
       "    <tr>\n",
       "      <th>2022-01-31</th>\n",
       "      <td>4.9</td>\n",
       "    </tr>\n",
       "    <tr>\n",
       "      <th>2021-12-31</th>\n",
       "      <td>4.9</td>\n",
       "    </tr>\n",
       "    <tr>\n",
       "      <th>2021-11-30</th>\n",
       "      <td>4.8</td>\n",
       "    </tr>\n",
       "    <tr>\n",
       "      <th>2021-10-31</th>\n",
       "      <td>4.9</td>\n",
       "    </tr>\n",
       "    <tr>\n",
       "      <th>2021-09-30</th>\n",
       "      <td>4.8</td>\n",
       "    </tr>\n",
       "  </tbody>\n",
       "</table>\n",
       "</div>"
      ],
      "text/plain": [
       "           value\n",
       "date            \n",
       "2022-01-31   4.9\n",
       "2021-12-31   4.9\n",
       "2021-11-30   4.8\n",
       "2021-10-31   4.9\n",
       "2021-09-30   4.8"
      ]
     },
     "execution_count": 32,
     "metadata": {},
     "output_type": "execute_result"
    }
   ],
   "source": [
    "#EH: inflation df for chart\n",
    "\n",
    "inflation_date=inflation.set_index('date')\n",
    "inflation_date.index=pd.to_datetime(inflation_date.index)\n",
    "#EH: update date to closest month end\n",
    "inflation_date.index=inflation_date.index.shift(-1,freq='D')\n",
    "inflation_date.head()"
   ]
  },
  {
   "cell_type": "code",
   "execution_count": 34,
   "metadata": {
    "colab": {
     "base_uri": "https://localhost:8080/",
     "height": 607
    },
    "id": "zW0OYl137CTb",
    "outputId": "0fba604f-1a0c-47c1-c70f-8df5269c40dd"
   },
   "outputs": [
    {
     "name": "stderr",
     "output_type": "stream",
     "text": [
      "C:\\Users\\eunic\\anaconda3\\envs\\dev\\lib\\site-packages\\ipykernel_launcher.py:4: FutureWarning: Value based partial slicing on non-monotonic DatetimeIndexes with non-existing keys is deprecated and will raise a KeyError in a future Version.\n",
      "  after removing the cwd from sys.path.\n"
     ]
    },
    {
     "data": {},
     "metadata": {},
     "output_type": "display_data"
    },
    {
     "data": {
      "application/vnd.holoviews_exec.v0+json": "",
      "text/html": [
       "<div id='1002'>\n",
       "\n",
       "\n",
       "\n",
       "\n",
       "\n",
       "  <div class=\"bk-root\" id=\"6f079bab-5c72-4576-929a-0f9a2b96204b\" data-root-id=\"1002\"></div>\n",
       "</div>\n",
       "<script type=\"application/javascript\">(function(root) {\n",
       "  function embed_document(root) {\n",
       "    var docs_json = {\"4b75c460-50b6-4cb5-815a-3ffe02e855d8\":{\"defs\":[{\"extends\":null,\"module\":null,\"name\":\"ReactiveHTML1\",\"overrides\":[],\"properties\":[]},{\"extends\":null,\"module\":null,\"name\":\"FlexBox1\",\"overrides\":[],\"properties\":[{\"default\":\"flex-start\",\"kind\":null,\"name\":\"align_content\"},{\"default\":\"flex-start\",\"kind\":null,\"name\":\"align_items\"},{\"default\":\"row\",\"kind\":null,\"name\":\"flex_direction\"},{\"default\":\"wrap\",\"kind\":null,\"name\":\"flex_wrap\"},{\"default\":\"flex-start\",\"kind\":null,\"name\":\"justify_content\"}]},{\"extends\":null,\"module\":null,\"name\":\"TemplateActions1\",\"overrides\":[],\"properties\":[{\"default\":0,\"kind\":null,\"name\":\"open_modal\"},{\"default\":0,\"kind\":null,\"name\":\"close_modal\"}]},{\"extends\":null,\"module\":null,\"name\":\"MaterialTemplateActions1\",\"overrides\":[],\"properties\":[{\"default\":0,\"kind\":null,\"name\":\"open_modal\"},{\"default\":0,\"kind\":null,\"name\":\"close_modal\"}]}],\"roots\":{\"references\":[{\"attributes\":{\"months\":[0,4,8]},\"id\":\"1070\",\"type\":\"MonthsTicker\"},{\"attributes\":{\"mantissas\":[1,2,5],\"max_interval\":500.0,\"num_minor_ticks\":0},\"id\":\"1061\",\"type\":\"AdaptiveTicker\"},{\"attributes\":{\"months\":[0,6]},\"id\":\"1071\",\"type\":\"MonthsTicker\"},{\"attributes\":{},\"id\":\"1049\",\"type\":\"CategoricalTickFormatter\"},{\"attributes\":{\"num_minor_ticks\":5,\"tickers\":[{\"id\":\"1061\"},{\"id\":\"1062\"},{\"id\":\"1063\"},{\"id\":\"1064\"},{\"id\":\"1065\"},{\"id\":\"1066\"},{\"id\":\"1067\"},{\"id\":\"1068\"},{\"id\":\"1069\"},{\"id\":\"1070\"},{\"id\":\"1071\"},{\"id\":\"1072\"}]},\"id\":\"1017\",\"type\":\"DatetimeTicker\"},{\"attributes\":{},\"id\":\"1023\",\"type\":\"SaveTool\"},{\"attributes\":{\"axis_label\":\"date\",\"coordinates\":null,\"formatter\":{\"id\":\"1046\"},\"group\":null,\"major_label_policy\":{\"id\":\"1047\"},\"ticker\":{\"id\":\"1017\"}},\"id\":\"1016\",\"type\":\"DatetimeAxis\"},{\"attributes\":{\"data\":{\"date\":{\"__ndarray__\":\"AABAgGZcc0IAAIDSYGZzQgAAAL8IcHNCAABAEQN6c0IAAMD9qoNzQgAAAFCljXNCAABAop+Xc0IAAMCOR6FzQgAAAOFBq3NCAACAzem0c0IAAMAf5L5zQgAAAHLeyHNCAAAAk+HRc0IAAEDl29tzQgAAwNGD5XNCAAAAJH7vc0IAAIAQJvlzQgAAwGIgA3RCAAAAtRoNdEIAAIChwhZ0QgAAwPO8IHRCAABA4GQqdEIAAIAyXzR0QgAAwIRZPnRCAADApVxHdEIAAAD4VlF0QgAAgOT+WnRCAADANvlkdEIAAEAjoW50QgAAgHWbeHRCAADAx5WCdEIAAEC0PYx0QgAAgAY4lnRCAAAA89+fdEIAAEBF2ql0QgAAgJfUs3RCAACAuNe8dEIAAMAK0sZ0QgAAQPd50HRCAACASXTadEIAAAA2HOR0QgAAQIgW7nRCAACA2hD4dEIAAADHuAF1QgAAQBmzC3VCAADABVsVdUIAAABYVR91QgAAQKpPKXVCAAAAMaUydUIAAECDnzx1QgAAwG9HRnVCAAAAwkFQdUIAAICu6Vl1QgAAwADkY3VCAAAAU95tdUIAAIA/hnd1QgAAwJGAgXVCAABAfiiLdUIAAIDQIpV1QgAAwCIdn3VCAADAQyCodUIAAACWGrJ1QgAAgILCu3VCAADA1LzFdUIAAEDBZM91QgAAgBNf2XVCAADAZVnjdUIAAEBSAe11QgAAgKT79nVCAAAAkaMAdkIAAEDjnQp2QgAAgDWYFHZCAACAVpsddkIAAMColSd2QgAAQJU9MXZCAACA5zc7dkIAAADU30R2QgAAQCbaTnZCAACAeNRYdkIAAABlfGJ2QgAAQLd2bHZCAADAox52dkIAAAD2GIB2QgAAQEgTinZCAABAaRaTdkIAAIC7EJ12QgAAAKi4pnZCAABA+rKwdkIAAMDmWrp2QgAAADlVxHZCAABAi0/OdkIAAMB399d2QgAAAMrx4XZCAACAtpnrdkIAAMAIlPV2QgAAAFuO/3ZCAADA4eMId0IAAAA03hJ3QgAAgCCGHHdCAADAcoAmd0IAAEBfKDB3QgAAgLEiOndCAADAAx1Ed0IAAEDwxE13QgAAgEK/V3dCAAAAL2dhd0IAAECBYWt3QgAAgNNbdXdCAACA9F5+d0IAAMBGWYh3QgAAQDMBkndCAACAhfubd0IAAAByo6V3QgAAQMSdr3dCAACAFpi5d0IAAAADQMN3QgAAQFU6zXdCAADAQeLWd0IAAACU3OB3QgAAQObW6ndC\",\"dtype\":\"float64\",\"order\":\"little\",\"shape\":[120]},\"value\":[\"3.9\",\"3.2\",\"3.0\",\"3.1\",\"3.0\",\"3.6\",\"3.3\",\"3.1\",\"3.1\",\"3.2\",\"3.3\",\"3.3\",\"3.2\",\"3.1\",\"3.1\",\"3.0\",\"3.1\",\"3.0\",\"3.3\",\"3.0\",\"2.9\",\"3.0\",\"3.1\",\"3.2\",\"3.2\",\"3.2\",\"3.3\",\"3.1\",\"3.3\",\"3.2\",\"3.0\",\"2.9\",\"2.8\",\"2.8\",\"2.5\",\"2.8\",\"3.0\",\"2.6\",\"2.8\",\"2.7\",\"2.8\",\"2.8\",\"2.8\",\"2.7\",\"2.7\",\"2.6\",\"2.5\",\"2.5\",\"2.7\",\"2.8\",\"2.4\",\"2.6\",\"2.7\",\"2.5\",\"2.4\",\"2.4\",\"2.4\",\"2.2\",\"2.6\",\"2.7\",\"2.5\",\"2.5\",\"2.6\",\"2.6\",\"2.6\",\"2.6\",\"2.7\",\"2.4\",\"2.5\",\"2.7\",\"2.7\",\"2.7\",\"2.8\",\"2.7\",\"2.8\",\"3\",\"2.9\",\"3\",\"2.7\",\"2.9\",\"2.8\",\"2.7\",\"2.7\",\"2.6\",\"2.5\",\"2.5\",\"2.9\",\"2.7\",\"2.6\",\"2.7\",\"2.8\",\"2.5\",\"2.5\",\"2.3\",\"2.5\",\"2.4\",\"2.2\",\"2.1\",\"3.2\",\"3\",\"3\",\"3.1\",\"2.6\",\"2.6\",\"2.8\",\"2.5\",\"3\",\"3.3\",\"3.1\",\"3.4\",\"4.6\",\"4.2\",\"4.7\",\"4.6\",\"4.6\",\"4.8\",\"4.9\",\"4.8\",\"4.9\",\"4.9\"]},\"selected\":{\"id\":\"1037\"},\"selection_policy\":{\"id\":\"1058\"}},\"id\":\"1036\",\"type\":\"ColumnDataSource\"},{\"attributes\":{},\"id\":\"1024\",\"type\":\"PanTool\"},{\"attributes\":{\"months\":[0,2,4,6,8,10]},\"id\":\"1069\",\"type\":\"MonthsTicker\"},{\"attributes\":{\"margin\":[5,5,5,5],\"name\":\"HSpacer01631\",\"sizing_mode\":\"stretch_width\"},\"id\":\"1095\",\"type\":\"Spacer\"},{\"attributes\":{},\"id\":\"1027\",\"type\":\"ResetTool\"},{\"attributes\":{\"bottom_units\":\"screen\",\"coordinates\":null,\"fill_alpha\":0.5,\"fill_color\":\"lightgrey\",\"group\":null,\"left_units\":\"screen\",\"level\":\"overlay\",\"line_alpha\":1.0,\"line_color\":\"black\",\"line_dash\":[4,4],\"line_width\":2,\"right_units\":\"screen\",\"syncable\":false,\"top_units\":\"screen\"},\"id\":\"1028\",\"type\":\"BoxAnnotation\"},{\"attributes\":{\"coordinates\":null,\"data_source\":{\"id\":\"1036\"},\"glyph\":{\"id\":\"1039\"},\"group\":null,\"hover_glyph\":null,\"muted_glyph\":{\"id\":\"1041\"},\"nonselection_glyph\":{\"id\":\"1040\"},\"selection_glyph\":{\"id\":\"1044\"},\"view\":{\"id\":\"1043\"}},\"id\":\"1042\",\"type\":\"GlyphRenderer\"},{\"attributes\":{},\"id\":\"1025\",\"type\":\"WheelZoomTool\"},{\"attributes\":{},\"id\":\"1072\",\"type\":\"YearsTicker\"},{\"attributes\":{\"tools\":[{\"id\":\"1006\"},{\"id\":\"1023\"},{\"id\":\"1024\"},{\"id\":\"1025\"},{\"id\":\"1026\"},{\"id\":\"1027\"}]},\"id\":\"1029\",\"type\":\"Toolbar\"},{\"attributes\":{\"overlay\":{\"id\":\"1028\"}},\"id\":\"1026\",\"type\":\"BoxZoomTool\"},{\"attributes\":{\"axis_label\":\"value\",\"coordinates\":null,\"formatter\":{\"id\":\"1049\"},\"group\":null,\"major_label_policy\":{\"id\":\"1050\"},\"ticker\":{\"id\":\"1021\"}},\"id\":\"1020\",\"type\":\"CategoricalAxis\"},{\"attributes\":{\"margin\":[5,5,5,5],\"name\":\"HSpacer01630\",\"sizing_mode\":\"stretch_width\"},\"id\":\"1003\",\"type\":\"Spacer\"},{\"attributes\":{\"days\":[1,2,3,4,5,6,7,8,9,10,11,12,13,14,15,16,17,18,19,20,21,22,23,24,25,26,27,28,29,30,31]},\"id\":\"1064\",\"type\":\"DaysTicker\"},{\"attributes\":{\"children\":[{\"id\":\"1003\"},{\"id\":\"1007\"},{\"id\":\"1095\"}],\"margin\":[0,0,0,0],\"name\":\"Row01626\",\"tags\":[\"embedded\"]},\"id\":\"1002\",\"type\":\"Row\"},{\"attributes\":{\"factors\":[\"3.9\",\"3.2\",\"3.0\",\"3.1\",\"3.6\",\"3.3\",\"2.9\",\"2.8\",\"2.5\",\"2.6\",\"2.7\",\"2.4\",\"2.2\",\"3\",\"2.3\",\"2.1\",\"3.4\",\"4.6\",\"4.2\",\"4.7\",\"4.8\",\"4.9\"],\"tags\":[[[\"value\",\"value\",null]]]},\"id\":\"1005\",\"type\":\"FactorRange\"},{\"attributes\":{},\"id\":\"1058\",\"type\":\"UnionRenderers\"},{\"attributes\":{\"base\":24,\"mantissas\":[1,2,4,6,8,12],\"max_interval\":43200000.0,\"min_interval\":3600000.0,\"num_minor_ticks\":0},\"id\":\"1063\",\"type\":\"AdaptiveTicker\"},{\"attributes\":{},\"id\":\"1046\",\"type\":\"DatetimeTickFormatter\"},{\"attributes\":{\"days\":[1,4,7,10,13,16,19,22,25,28]},\"id\":\"1065\",\"type\":\"DaysTicker\"},{\"attributes\":{\"axis\":{\"id\":\"1020\"},\"coordinates\":null,\"dimension\":1,\"grid_line_color\":null,\"group\":null,\"ticker\":null},\"id\":\"1022\",\"type\":\"Grid\"},{\"attributes\":{\"line_color\":\"#30a2da\",\"line_width\":2,\"x\":{\"field\":\"date\"},\"y\":{\"field\":\"value\"}},\"id\":\"1039\",\"type\":\"Line\"},{\"attributes\":{\"axis\":{\"id\":\"1016\"},\"coordinates\":null,\"grid_line_color\":null,\"group\":null,\"ticker\":null},\"id\":\"1019\",\"type\":\"Grid\"},{\"attributes\":{\"end\":1643587200000.0,\"reset_end\":1643587200000.0,\"reset_start\":1330473600000.0,\"start\":1330473600000.0,\"tags\":[[[\"date\",\"date\",null]]]},\"id\":\"1004\",\"type\":\"Range1d\"},{\"attributes\":{\"line_color\":\"#30a2da\",\"line_width\":2,\"x\":{\"field\":\"date\"},\"y\":{\"field\":\"value\"}},\"id\":\"1044\",\"type\":\"Line\"},{\"attributes\":{\"months\":[0,1,2,3,4,5,6,7,8,9,10,11]},\"id\":\"1068\",\"type\":\"MonthsTicker\"},{\"attributes\":{},\"id\":\"1050\",\"type\":\"AllLabels\"},{\"attributes\":{\"callback\":null,\"formatters\":{\"@{date}\":\"datetime\"},\"renderers\":[{\"id\":\"1042\"}],\"tags\":[\"hv_created\"],\"tooltips\":[[\"date\",\"@{date}{%F %T}\"],[\"value\",\"@{value}\"]]},\"id\":\"1006\",\"type\":\"HoverTool\"},{\"attributes\":{},\"id\":\"1047\",\"type\":\"AllLabels\"},{\"attributes\":{\"base\":60,\"mantissas\":[1,2,5,10,15,20,30],\"max_interval\":1800000.0,\"min_interval\":1000.0,\"num_minor_ticks\":0},\"id\":\"1062\",\"type\":\"AdaptiveTicker\"},{\"attributes\":{\"days\":[1,8,15,22]},\"id\":\"1066\",\"type\":\"DaysTicker\"},{\"attributes\":{\"source\":{\"id\":\"1036\"}},\"id\":\"1043\",\"type\":\"CDSView\"},{\"attributes\":{\"line_alpha\":0.1,\"line_color\":\"#30a2da\",\"line_width\":2,\"x\":{\"field\":\"date\"},\"y\":{\"field\":\"value\"}},\"id\":\"1040\",\"type\":\"Line\"},{\"attributes\":{\"days\":[1,15]},\"id\":\"1067\",\"type\":\"DaysTicker\"},{\"attributes\":{\"coordinates\":null,\"group\":null,\"text\":\"Inflation Chart\",\"text_color\":\"black\",\"text_font_size\":\"12pt\"},\"id\":\"1008\",\"type\":\"Title\"},{\"attributes\":{},\"id\":\"1021\",\"type\":\"CategoricalTicker\"},{\"attributes\":{},\"id\":\"1014\",\"type\":\"CategoricalScale\"},{\"attributes\":{\"line_alpha\":0.2,\"line_color\":\"#30a2da\",\"line_width\":2,\"x\":{\"field\":\"date\"},\"y\":{\"field\":\"value\"}},\"id\":\"1041\",\"type\":\"Line\"},{\"attributes\":{\"below\":[{\"id\":\"1016\"}],\"center\":[{\"id\":\"1019\"},{\"id\":\"1022\"}],\"height\":500,\"left\":[{\"id\":\"1020\"}],\"margin\":[5,5,5,5],\"min_border_bottom\":10,\"min_border_left\":10,\"min_border_right\":10,\"min_border_top\":10,\"renderers\":[{\"id\":\"1042\"}],\"sizing_mode\":\"fixed\",\"title\":{\"id\":\"1008\"},\"toolbar\":{\"id\":\"1029\"},\"width\":1000,\"x_range\":{\"id\":\"1004\"},\"x_scale\":{\"id\":\"1012\"},\"y_range\":{\"id\":\"1005\"},\"y_scale\":{\"id\":\"1014\"}},\"id\":\"1007\",\"subtype\":\"Figure\",\"type\":\"Plot\"},{\"attributes\":{},\"id\":\"1012\",\"type\":\"LinearScale\"},{\"attributes\":{},\"id\":\"1037\",\"type\":\"Selection\"}],\"root_ids\":[\"1002\"]},\"title\":\"Bokeh Application\",\"version\":\"2.4.2\"}};\n",
       "    var render_items = [{\"docid\":\"4b75c460-50b6-4cb5-815a-3ffe02e855d8\",\"root_ids\":[\"1002\"],\"roots\":{\"1002\":\"6f079bab-5c72-4576-929a-0f9a2b96204b\"}}];\n",
       "    root.Bokeh.embed.embed_items_notebook(docs_json, render_items);\n",
       "  }\n",
       "  if (root.Bokeh !== undefined && root.Bokeh.Panel !== undefined) {\n",
       "    embed_document(root);\n",
       "  } else {\n",
       "    var attempts = 0;\n",
       "    var timer = setInterval(function(root) {\n",
       "      if (root.Bokeh !== undefined && root.Bokeh.Panel !== undefined) {\n",
       "        clearInterval(timer);\n",
       "        embed_document(root);\n",
       "      } else if (document.readyState == \"complete\") {\n",
       "        attempts++;\n",
       "        if (attempts > 200) {\n",
       "          clearInterval(timer);\n",
       "          console.log(\"Bokeh: ERROR: Unable to run BokehJS code because BokehJS library is missing\");\n",
       "        }\n",
       "      }\n",
       "    }, 25, root)\n",
       "  }\n",
       "})(window);</script>"
      ],
      "text/plain": [
       ":Curve   [date]   (value)"
      ]
     },
     "execution_count": 34,
     "metadata": {
      "application/vnd.holoviews_exec.v0+json": {
       "id": "1002"
      }
     },
     "output_type": "execute_result"
    }
   ],
   "source": [
    "#EH: inflation Charts\n",
    "\n",
    "\n",
    "inflation_date['2012-02-01':].hvplot(title='Inflation Chart',width=1000,height=500)"
   ]
  },
  {
   "cell_type": "code",
   "execution_count": 37,
   "metadata": {
    "colab": {
     "base_uri": "https://localhost:8080/",
     "height": 238
    },
    "id": "TNR4NYWWCBkl",
    "outputId": "66806a26-8421-4105-f3aa-9b9963bc7ecd"
   },
   "outputs": [
    {
     "data": {
      "text/html": [
       "<div>\n",
       "<style scoped>\n",
       "    .dataframe tbody tr th:only-of-type {\n",
       "        vertical-align: middle;\n",
       "    }\n",
       "\n",
       "    .dataframe tbody tr th {\n",
       "        vertical-align: top;\n",
       "    }\n",
       "\n",
       "    .dataframe thead th {\n",
       "        text-align: right;\n",
       "    }\n",
       "</style>\n",
       "<table border=\"1\" class=\"dataframe\">\n",
       "  <thead>\n",
       "    <tr style=\"text-align: right;\">\n",
       "      <th></th>\n",
       "      <th>value</th>\n",
       "    </tr>\n",
       "    <tr>\n",
       "      <th>date</th>\n",
       "      <th></th>\n",
       "    </tr>\n",
       "  </thead>\n",
       "  <tbody>\n",
       "    <tr>\n",
       "      <th>2022-01-31</th>\n",
       "      <td>62.8</td>\n",
       "    </tr>\n",
       "    <tr>\n",
       "      <th>2021-12-31</th>\n",
       "      <td>67.2</td>\n",
       "    </tr>\n",
       "    <tr>\n",
       "      <th>2021-11-30</th>\n",
       "      <td>70.6</td>\n",
       "    </tr>\n",
       "    <tr>\n",
       "      <th>2021-10-31</th>\n",
       "      <td>67.4</td>\n",
       "    </tr>\n",
       "    <tr>\n",
       "      <th>2021-09-30</th>\n",
       "      <td>71.7</td>\n",
       "    </tr>\n",
       "  </tbody>\n",
       "</table>\n",
       "</div>"
      ],
      "text/plain": [
       "           value\n",
       "date            \n",
       "2022-01-31  62.8\n",
       "2021-12-31  67.2\n",
       "2021-11-30  70.6\n",
       "2021-10-31  67.4\n",
       "2021-09-30  71.7"
      ]
     },
     "execution_count": 37,
     "metadata": {},
     "output_type": "execute_result"
    }
   ],
   "source": [
    "#EH: consumer sentiment df for chart\n",
    "\n",
    "consumer_date=consumer_s.set_index('date')\n",
    "consumer_date.index=pd.to_datetime(consumer_date.index)\n",
    "#EH: update date to closest month end\n",
    "consumer_date.index=consumer_date.index.shift(-1,freq='D')\n",
    "consumer_date.head()"
   ]
  },
  {
   "cell_type": "code",
   "execution_count": 38,
   "metadata": {
    "colab": {
     "base_uri": "https://localhost:8080/",
     "height": 607
    },
    "id": "jFqntBkIDFke",
    "outputId": "028a793e-2267-4c17-850f-1b704335e1a7"
   },
   "outputs": [
    {
     "name": "stderr",
     "output_type": "stream",
     "text": [
      "C:\\Users\\eunic\\anaconda3\\envs\\dev\\lib\\site-packages\\ipykernel_launcher.py:5: FutureWarning: Value based partial slicing on non-monotonic DatetimeIndexes with non-existing keys is deprecated and will raise a KeyError in a future Version.\n",
      "  \"\"\"\n"
     ]
    },
    {
     "data": {},
     "metadata": {},
     "output_type": "display_data"
    },
    {
     "data": {
      "application/vnd.holoviews_exec.v0+json": "",
      "text/html": [
       "<div id='1207'>\n",
       "\n",
       "\n",
       "\n",
       "\n",
       "\n",
       "  <div class=\"bk-root\" id=\"b3f12b52-d75e-4c89-8c95-89dea9960b32\" data-root-id=\"1207\"></div>\n",
       "</div>\n",
       "<script type=\"application/javascript\">(function(root) {\n",
       "  function embed_document(root) {\n",
       "    var docs_json = {\"c5ed1d92-663c-4c88-9784-5a23ff5e62d6\":{\"defs\":[{\"extends\":null,\"module\":null,\"name\":\"ReactiveHTML1\",\"overrides\":[],\"properties\":[]},{\"extends\":null,\"module\":null,\"name\":\"FlexBox1\",\"overrides\":[],\"properties\":[{\"default\":\"flex-start\",\"kind\":null,\"name\":\"align_content\"},{\"default\":\"flex-start\",\"kind\":null,\"name\":\"align_items\"},{\"default\":\"row\",\"kind\":null,\"name\":\"flex_direction\"},{\"default\":\"wrap\",\"kind\":null,\"name\":\"flex_wrap\"},{\"default\":\"flex-start\",\"kind\":null,\"name\":\"justify_content\"}]},{\"extends\":null,\"module\":null,\"name\":\"TemplateActions1\",\"overrides\":[],\"properties\":[{\"default\":0,\"kind\":null,\"name\":\"open_modal\"},{\"default\":0,\"kind\":null,\"name\":\"close_modal\"}]},{\"extends\":null,\"module\":null,\"name\":\"MaterialTemplateActions1\",\"overrides\":[],\"properties\":[{\"default\":0,\"kind\":null,\"name\":\"open_modal\"},{\"default\":0,\"kind\":null,\"name\":\"close_modal\"}]}],\"roots\":{\"references\":[{\"attributes\":{\"mantissas\":[1,2,5],\"max_interval\":500.0,\"num_minor_ticks\":0},\"id\":\"1266\",\"type\":\"AdaptiveTicker\"},{\"attributes\":{\"base\":60,\"mantissas\":[1,2,5,10,15,20,30],\"max_interval\":1800000.0,\"min_interval\":1000.0,\"num_minor_ticks\":0},\"id\":\"1267\",\"type\":\"AdaptiveTicker\"},{\"attributes\":{},\"id\":\"1228\",\"type\":\"SaveTool\"},{\"attributes\":{\"months\":[0,6]},\"id\":\"1276\",\"type\":\"MonthsTicker\"},{\"attributes\":{},\"id\":\"1229\",\"type\":\"PanTool\"},{\"attributes\":{\"line_color\":\"#30a2da\",\"line_width\":2,\"x\":{\"field\":\"date\"},\"y\":{\"field\":\"value\"}},\"id\":\"1244\",\"type\":\"Line\"},{\"attributes\":{},\"id\":\"1232\",\"type\":\"ResetTool\"},{\"attributes\":{\"bottom_units\":\"screen\",\"coordinates\":null,\"fill_alpha\":0.5,\"fill_color\":\"lightgrey\",\"group\":null,\"left_units\":\"screen\",\"level\":\"overlay\",\"line_alpha\":1.0,\"line_color\":\"black\",\"line_dash\":[4,4],\"line_width\":2,\"right_units\":\"screen\",\"syncable\":false,\"top_units\":\"screen\"},\"id\":\"1233\",\"type\":\"BoxAnnotation\"},{\"attributes\":{},\"id\":\"1230\",\"type\":\"WheelZoomTool\"},{\"attributes\":{\"overlay\":{\"id\":\"1233\"}},\"id\":\"1231\",\"type\":\"BoxZoomTool\"},{\"attributes\":{},\"id\":\"1277\",\"type\":\"YearsTicker\"},{\"attributes\":{\"axis_label\":\"date\",\"coordinates\":null,\"formatter\":{\"id\":\"1251\"},\"group\":null,\"major_label_policy\":{\"id\":\"1252\"},\"ticker\":{\"id\":\"1222\"}},\"id\":\"1221\",\"type\":\"DatetimeAxis\"},{\"attributes\":{\"line_alpha\":0.1,\"line_color\":\"#30a2da\",\"line_width\":2,\"x\":{\"field\":\"date\"},\"y\":{\"field\":\"value\"}},\"id\":\"1245\",\"type\":\"Line\"},{\"attributes\":{},\"id\":\"1219\",\"type\":\"CategoricalScale\"},{\"attributes\":{\"below\":[{\"id\":\"1221\"}],\"center\":[{\"id\":\"1224\"},{\"id\":\"1227\"}],\"height\":500,\"left\":[{\"id\":\"1225\"}],\"margin\":[5,5,5,5],\"min_border_bottom\":10,\"min_border_left\":10,\"min_border_right\":10,\"min_border_top\":10,\"renderers\":[{\"id\":\"1247\"}],\"sizing_mode\":\"fixed\",\"title\":{\"id\":\"1213\"},\"toolbar\":{\"id\":\"1234\"},\"width\":1000,\"x_range\":{\"id\":\"1209\"},\"x_scale\":{\"id\":\"1217\"},\"y_range\":{\"id\":\"1210\"},\"y_scale\":{\"id\":\"1219\"}},\"id\":\"1212\",\"subtype\":\"Figure\",\"type\":\"Plot\"},{\"attributes\":{\"margin\":[5,5,5,5],\"name\":\"HSpacer01810\",\"sizing_mode\":\"stretch_width\"},\"id\":\"1300\",\"type\":\"Spacer\"},{\"attributes\":{\"tools\":[{\"id\":\"1211\"},{\"id\":\"1228\"},{\"id\":\"1229\"},{\"id\":\"1230\"},{\"id\":\"1231\"},{\"id\":\"1232\"}]},\"id\":\"1234\",\"type\":\"Toolbar\"},{\"attributes\":{\"num_minor_ticks\":5,\"tickers\":[{\"id\":\"1266\"},{\"id\":\"1267\"},{\"id\":\"1268\"},{\"id\":\"1269\"},{\"id\":\"1270\"},{\"id\":\"1271\"},{\"id\":\"1272\"},{\"id\":\"1273\"},{\"id\":\"1274\"},{\"id\":\"1275\"},{\"id\":\"1276\"},{\"id\":\"1277\"}]},\"id\":\"1222\",\"type\":\"DatetimeTicker\"},{\"attributes\":{\"children\":[{\"id\":\"1208\"},{\"id\":\"1212\"},{\"id\":\"1300\"}],\"margin\":[0,0,0,0],\"name\":\"Row01805\",\"tags\":[\"embedded\"]},\"id\":\"1207\",\"type\":\"Row\"},{\"attributes\":{\"coordinates\":null,\"group\":null,\"text\":\"consumer indicator\",\"text_color\":\"black\",\"text_font_size\":\"12pt\"},\"id\":\"1213\",\"type\":\"Title\"},{\"attributes\":{},\"id\":\"1263\",\"type\":\"UnionRenderers\"},{\"attributes\":{\"end\":1643587200000.0,\"reset_end\":1643587200000.0,\"reset_start\":1488240000000.0,\"start\":1488240000000.0,\"tags\":[[[\"date\",\"date\",null]]]},\"id\":\"1209\",\"type\":\"Range1d\"},{\"attributes\":{\"line_alpha\":0.2,\"line_color\":\"#30a2da\",\"line_width\":2,\"x\":{\"field\":\"date\"},\"y\":{\"field\":\"value\"}},\"id\":\"1246\",\"type\":\"Line\"},{\"attributes\":{\"base\":24,\"mantissas\":[1,2,4,6,8,12],\"max_interval\":43200000.0,\"min_interval\":3600000.0,\"num_minor_ticks\":0},\"id\":\"1268\",\"type\":\"AdaptiveTicker\"},{\"attributes\":{},\"id\":\"1217\",\"type\":\"LinearScale\"},{\"attributes\":{\"days\":[1,4,7,10,13,16,19,22,25,28]},\"id\":\"1270\",\"type\":\"DaysTicker\"},{\"attributes\":{\"axis\":{\"id\":\"1221\"},\"coordinates\":null,\"grid_line_color\":null,\"group\":null,\"ticker\":null},\"id\":\"1224\",\"type\":\"Grid\"},{\"attributes\":{\"days\":[1,2,3,4,5,6,7,8,9,10,11,12,13,14,15,16,17,18,19,20,21,22,23,24,25,26,27,28,29,30,31]},\"id\":\"1269\",\"type\":\"DaysTicker\"},{\"attributes\":{\"months\":[0,1,2,3,4,5,6,7,8,9,10,11]},\"id\":\"1273\",\"type\":\"MonthsTicker\"},{\"attributes\":{\"axis_label\":\"consumer indiator\",\"coordinates\":null,\"formatter\":{\"id\":\"1254\"},\"group\":null,\"major_label_policy\":{\"id\":\"1255\"},\"ticker\":{\"id\":\"1226\"}},\"id\":\"1225\",\"type\":\"CategoricalAxis\"},{\"attributes\":{\"line_color\":\"#30a2da\",\"line_width\":2,\"x\":{\"field\":\"date\"},\"y\":{\"field\":\"value\"}},\"id\":\"1249\",\"type\":\"Line\"},{\"attributes\":{\"margin\":[5,5,5,5],\"name\":\"HSpacer01809\",\"sizing_mode\":\"stretch_width\"},\"id\":\"1208\",\"type\":\"Spacer\"},{\"attributes\":{},\"id\":\"1226\",\"type\":\"CategoricalTicker\"},{\"attributes\":{\"days\":[1,8,15,22]},\"id\":\"1271\",\"type\":\"DaysTicker\"},{\"attributes\":{\"factors\":[\"96.9\",\"97\",\"97.1\",\"95\",\"93.4\",\"96.8\",\"95.1\",\"100.7\",\"98.5\",\"95.9\",\"95.7\",\"99.7\",\"101.4\",\"98.8\",\"98\",\"98.2\",\"97.9\",\"96.2\",\"100.1\",\"98.6\",\"97.5\",\"98.3\",\"91.2\",\"93.8\",\"98.4\",\"97.2\",\"100\",\"89.8\",\"93.2\",\"95.5\",\"99.3\",\"99.8\",\"101\",\"89.1\",\"71.8\",\"72.3\",\"78.1\",\"72.5\",\"74.1\",\"80.4\",\"81.8\",\"76.9\",\"80.7\",\"79\",\"76.8\",\"84.9\",\"88.3\",\"82.9\",\"85.5\",\"81.2\",\"70.3\",\"72.8\",\"71.7\",\"67.4\",\"70.6\",\"67.2\",\"62.8\"],\"tags\":[[[\"value\",\"value\",null]]]},\"id\":\"1210\",\"type\":\"FactorRange\"},{\"attributes\":{\"axis\":{\"id\":\"1225\"},\"coordinates\":null,\"dimension\":1,\"grid_line_color\":null,\"group\":null,\"ticker\":null},\"id\":\"1227\",\"type\":\"Grid\"},{\"attributes\":{\"days\":[1,15]},\"id\":\"1272\",\"type\":\"DaysTicker\"},{\"attributes\":{},\"id\":\"1242\",\"type\":\"Selection\"},{\"attributes\":{\"coordinates\":null,\"data_source\":{\"id\":\"1241\"},\"glyph\":{\"id\":\"1244\"},\"group\":null,\"hover_glyph\":null,\"muted_glyph\":{\"id\":\"1246\"},\"nonselection_glyph\":{\"id\":\"1245\"},\"selection_glyph\":{\"id\":\"1249\"},\"view\":{\"id\":\"1248\"}},\"id\":\"1247\",\"type\":\"GlyphRenderer\"},{\"attributes\":{\"callback\":null,\"formatters\":{\"@{date}\":\"datetime\"},\"renderers\":[{\"id\":\"1247\"}],\"tags\":[\"hv_created\"],\"tooltips\":[[\"date\",\"@{date}{%F %T}\"],[\"value\",\"@{value}\"]]},\"id\":\"1211\",\"type\":\"HoverTool\"},{\"attributes\":{\"source\":{\"id\":\"1241\"}},\"id\":\"1248\",\"type\":\"CDSView\"},{\"attributes\":{},\"id\":\"1252\",\"type\":\"AllLabels\"},{\"attributes\":{\"months\":[0,2,4,6,8,10]},\"id\":\"1274\",\"type\":\"MonthsTicker\"},{\"attributes\":{},\"id\":\"1254\",\"type\":\"CategoricalTickFormatter\"},{\"attributes\":{},\"id\":\"1251\",\"type\":\"DatetimeTickFormatter\"},{\"attributes\":{},\"id\":\"1255\",\"type\":\"AllLabels\"},{\"attributes\":{\"months\":[0,4,8]},\"id\":\"1275\",\"type\":\"MonthsTicker\"},{\"attributes\":{\"data\":{\"date\":{\"__ndarray__\":\"AADAQyCodUIAAACWGrJ1QgAAgILCu3VCAADA1LzFdUIAAEDBZM91QgAAgBNf2XVCAADAZVnjdUIAAEBSAe11QgAAgKT79nVCAAAAkaMAdkIAAEDjnQp2QgAAgDWYFHZCAACAVpsddkIAAMColSd2QgAAQJU9MXZCAACA5zc7dkIAAADU30R2QgAAQCbaTnZCAACAeNRYdkIAAABlfGJ2QgAAQLd2bHZCAADAox52dkIAAAD2GIB2QgAAQEgTinZCAABAaRaTdkIAAIC7EJ12QgAAAKi4pnZCAABA+rKwdkIAAMDmWrp2QgAAADlVxHZCAABAi0/OdkIAAMB399d2QgAAAMrx4XZCAACAtpnrdkIAAMAIlPV2QgAAAFuO/3ZCAADA4eMId0IAAAA03hJ3QgAAgCCGHHdCAADAcoAmd0IAAEBfKDB3QgAAgLEiOndCAADAAx1Ed0IAAEDwxE13QgAAgEK/V3dCAAAAL2dhd0IAAECBYWt3QgAAgNNbdXdCAACA9F5+d0IAAMBGWYh3QgAAQDMBkndCAACAhfubd0IAAAByo6V3QgAAQMSdr3dCAACAFpi5d0IAAAADQMN3QgAAQFU6zXdCAADAQeLWd0IAAACU3OB3QgAAQObW6ndC\",\"dtype\":\"float64\",\"order\":\"little\",\"shape\":[60]},\"value\":[\"96.9\",\"97\",\"97.1\",\"95\",\"93.4\",\"96.8\",\"95.1\",\"100.7\",\"98.5\",\"95.9\",\"95.7\",\"99.7\",\"101.4\",\"98.8\",\"98\",\"98.2\",\"97.9\",\"96.2\",\"100.1\",\"98.6\",\"97.5\",\"98.3\",\"91.2\",\"93.8\",\"98.4\",\"97.2\",\"100\",\"98.2\",\"98.4\",\"89.8\",\"93.2\",\"95.5\",\"96.8\",\"99.3\",\"99.8\",\"101\",\"89.1\",\"71.8\",\"72.3\",\"78.1\",\"72.5\",\"74.1\",\"80.4\",\"81.8\",\"76.9\",\"80.7\",\"79\",\"76.8\",\"84.9\",\"88.3\",\"82.9\",\"85.5\",\"81.2\",\"70.3\",\"72.8\",\"71.7\",\"67.4\",\"70.6\",\"67.2\",\"62.8\"]},\"selected\":{\"id\":\"1242\"},\"selection_policy\":{\"id\":\"1263\"}},\"id\":\"1241\",\"type\":\"ColumnDataSource\"}],\"root_ids\":[\"1207\"]},\"title\":\"Bokeh Application\",\"version\":\"2.4.2\"}};\n",
       "    var render_items = [{\"docid\":\"c5ed1d92-663c-4c88-9784-5a23ff5e62d6\",\"root_ids\":[\"1207\"],\"roots\":{\"1207\":\"b3f12b52-d75e-4c89-8c95-89dea9960b32\"}}];\n",
       "    root.Bokeh.embed.embed_items_notebook(docs_json, render_items);\n",
       "  }\n",
       "  if (root.Bokeh !== undefined && root.Bokeh.Panel !== undefined) {\n",
       "    embed_document(root);\n",
       "  } else {\n",
       "    var attempts = 0;\n",
       "    var timer = setInterval(function(root) {\n",
       "      if (root.Bokeh !== undefined && root.Bokeh.Panel !== undefined) {\n",
       "        clearInterval(timer);\n",
       "        embed_document(root);\n",
       "      } else if (document.readyState == \"complete\") {\n",
       "        attempts++;\n",
       "        if (attempts > 200) {\n",
       "          clearInterval(timer);\n",
       "          console.log(\"Bokeh: ERROR: Unable to run BokehJS code because BokehJS library is missing\");\n",
       "        }\n",
       "      }\n",
       "    }, 25, root)\n",
       "  }\n",
       "})(window);</script>"
      ],
      "text/plain": [
       ":Curve   [date]   (value)"
      ]
     },
     "execution_count": 38,
     "metadata": {
      "application/vnd.holoviews_exec.v0+json": {
       "id": "1207"
      }
     },
     "output_type": "execute_result"
    }
   ],
   "source": [
    "#EH: consumer sentiment Charts\n",
    "\n",
    "\n",
    "\n",
    "consumer_date['2017-02-01':].hvplot(width=1000,height=500, ylabel='consumer indiator',title='consumer indicator')"
   ]
  },
  {
   "cell_type": "code",
   "execution_count": null,
   "metadata": {
    "id": "dC1CaeqJDiSF"
   },
   "outputs": [],
   "source": [
    "\n"
   ]
  },
  {
   "cell_type": "code",
   "execution_count": 39,
   "metadata": {
    "id": "XcrUBKhh3WxL"
   },
   "outputs": [],
   "source": [
    "#EH: function to reset index and to_datetime\n",
    "\n",
    "def resetidx_todate(df):\n",
    "  df=df.reset_index()\n",
    "  df['date']=pd.to_datetime(df['date'])\n",
    "  return df"
   ]
  },
  {
   "cell_type": "code",
   "execution_count": 40,
   "metadata": {
    "colab": {
     "base_uri": "https://localhost:8080/"
    },
    "id": "ONtaSLIU3W7M",
    "outputId": "b9ff1abf-c9a5-4338-ae62-19ef65231ca8"
   },
   "outputs": [
    {
     "name": "stdout",
     "output_type": "stream",
     "text": [
      "<class 'pandas.core.frame.DataFrame'>\n",
      "RangeIndex: 530 entries, 0 to 529\n",
      "Data columns (total 2 columns):\n",
      " #   Column  Non-Null Count  Dtype         \n",
      "---  ------  --------------  -----         \n",
      " 0   date    530 non-null    datetime64[ns]\n",
      " 1   value   530 non-null    object        \n",
      "dtypes: datetime64[ns](1), object(1)\n",
      "memory usage: 8.4+ KB\n"
     ]
    }
   ],
   "source": [
    "#EH: reset index/to_datetime for inflation df\n",
    "\n",
    "inflation_prep=resetidx_todate(inflation_date)\n",
    "inflation_prep.info()"
   ]
  },
  {
   "cell_type": "code",
   "execution_count": 41,
   "metadata": {
    "colab": {
     "base_uri": "https://localhost:8080/"
    },
    "id": "qPkLdt874mZp",
    "outputId": "6adaf51e-b694-4a56-fb35-67c061c5afdc"
   },
   "outputs": [
    {
     "name": "stdout",
     "output_type": "stream",
     "text": [
      "<class 'pandas.core.frame.DataFrame'>\n",
      "RangeIndex: 832 entries, 0 to 831\n",
      "Data columns (total 2 columns):\n",
      " #   Column  Non-Null Count  Dtype         \n",
      "---  ------  --------------  -----         \n",
      " 0   date    832 non-null    datetime64[ns]\n",
      " 1   value   832 non-null    object        \n",
      "dtypes: datetime64[ns](1), object(1)\n",
      "memory usage: 13.1+ KB\n"
     ]
    }
   ],
   "source": [
    "#EH: reset index/to_datetime for consumer df\n",
    "consumer_prep=resetidx_todate(consumer_date)\n",
    "consumer_prep.info()"
   ]
  },
  {
   "cell_type": "code",
   "execution_count": 42,
   "metadata": {
    "colab": {
     "base_uri": "https://localhost:8080/"
    },
    "id": "R-hdDv-7VvH6",
    "outputId": "beeba056-e53d-45d3-955a-a81663f9599b"
   },
   "outputs": [
    {
     "data": {
      "text/plain": [
       "['Commercial Services',\n",
       " 'Communications',\n",
       " 'Consumer Durables',\n",
       " 'Consumer Non-Durables',\n",
       " 'Consumer Services',\n",
       " 'Distribution Services',\n",
       " 'Electronic Technology',\n",
       " 'Energy Minerals',\n",
       " 'Finance',\n",
       " 'Health Services',\n",
       " 'Health Technology',\n",
       " 'Industrial Services',\n",
       " 'Non-Energy Minerals',\n",
       " 'Process Industries',\n",
       " 'Producer Manufacturing',\n",
       " 'Retail Trade',\n",
       " 'Technology Services',\n",
       " 'Transportation',\n",
       " 'Utilities']"
      ]
     },
     "execution_count": 42,
     "metadata": {},
     "output_type": "execute_result"
    }
   ],
   "source": [
    "sector_list"
   ]
  },
  {
   "cell_type": "code",
   "execution_count": 43,
   "metadata": {
    "colab": {
     "base_uri": "https://localhost:8080/"
    },
    "id": "xtp72MTbV0kE",
    "outputId": "0bce1eae-733f-4088-e27f-c0753b2915db"
   },
   "outputs": [
    {
     "data": {
      "text/plain": [
       "43"
      ]
     },
     "execution_count": 43,
     "metadata": {},
     "output_type": "execute_result"
    }
   ],
   "source": [
    "#EH: create stock list for specific sector\n",
    "#EH:  Cannot loop through sector to compile data/generate output due to API calls limitation per day.\n",
    "\n",
    "stock_list=list(stockpool_list_df[stockpool_list_df['Sector']=='Health Technology']['ticker'])\n",
    "\n",
    "#EH:  print number of tickers per sector\n",
    "num_of_stock=len(stock_list)\n",
    "num_of_stock"
   ]
  },
  {
   "cell_type": "code",
   "execution_count": 44,
   "metadata": {
    "id": "qdWsXHVKYWFy"
   },
   "outputs": [],
   "source": [
    "#EH:  Create URL List\n",
    "\n",
    "url_list = []\n",
    "for each in stock_list:\n",
    "  data_url='https://www.alphavantage.co/query?function=CASH_FLOW&symbol='+each+'&apikey='+ alpha_api_key\n",
    "  url_list.append(data_url)"
   ]
  },
  {
   "cell_type": "code",
   "execution_count": null,
   "metadata": {},
   "outputs": [
    {
     "name": "stdout",
     "output_type": "stream",
     "text": [

     ]
    }
   ],
   "source": [
    "# EH:  List of urls to check ticker data error\n",
    "\n",
    "\n",
    "for url in url_list:\n",
    "    try:\n",
    "        response = requests.get(url)\n",
    "\n",
    "        # Check Status Codes\n",
    "        if response.status_code == 200:\n",
    "            data=response.json()\n",
    "            #EH: print the earliest date of quarter end data\n",
    "            print(data[\"quarterlyReports\"][-1][\"fiscalDateEnding\"])\n",
    "            print('================')\n",
    "        else:\n",
    "            print(f\"The url: {url} is invalid.\\nResponse code: {response.status_code}\")\n",
    "\n",
    "    except Exception as error:\n",
    "        # If an exception occurs in the try portion, the code in this branch will be executed.\n",
    "        print(f\"Unable to connect to the server at url: {url}.\\nError:\\n{error}\")\n",
    "    finally:\n",
    "        # Everything in finally will be executed regardless of try/except\n",
    "        print(f\"Parsed url: {url}\\n\")"
   ]
  },
  {
   "cell_type": "code",
   "execution_count": 46,
   "metadata": {
    "id": "qqklDHn1WQWa",
    "tags": []
   },
   "outputs": [],
   "source": [
    "#EH: Compile ROI for multiple tickers\n",
    "stock_df_list=[]\n",
    "for num in range(num_of_stock):\n",
    "    close_df=alpha_daily_data(stock_list[num], alpha_api_key, 2000)\n",
    "    roi_df=roi_compile(close_df)\n",
    "    stock_df_list.append(roi_df)\n",
    "join_roi=pd.concat(stock_df_list,axis=0,keys=stock_list)\n",
    "join_roi=join_roi.reset_index()\n",
    "join_roi.columns=['ticker','date','close','QEdate','q_roi']\n",
    "join_roi.set_index('QEdate',inplace=True)\n",
    "    "
   ]
  },
  {
   "cell_type": "code",
   "execution_count": 47,
   "metadata": {
    "id": "t-XiFCt2XRRj"
   },
   "outputs": [],
   "source": [
    "#EH: Compile cashflow\n",
    "consolidate_cash=pd.DataFrame()\n",
    "for each_sl1 in stock_list:\n",
    "\n",
    "    ticker_cash=cash(each_sl1)\n",
    "    consolidate_cash=consolidate_cash.append(ticker_cash)"
   ]
  },
  {
   "cell_type": "code",
   "execution_count": 48,
   "metadata": {
    "id": "JrcWBp4iXbJ_"
   },
   "outputs": [],
   "source": [
    "#EH:  Compile EPS\n",
    "eps_consolidate=pd.DataFrame()\n",
    "for each_sl2 in stock_list:\n",
    "    eps_tickergroup=eps(each_sl2)\n",
    "    eps_consolidate=eps_consolidate.append(eps_tickergroup)"
   ]
  },
  {
   "cell_type": "markdown",
   "metadata": {
    "id": "8IrBLes6Xket",
    "tags": []
   },
   "source": [
    "# Merge Data"
   ]
  },
  {
   "cell_type": "code",
   "execution_count": 49,
   "metadata": {
    "id": "z86_Qmu6Xdfb"
   },
   "outputs": [],
   "source": [
    "#EH: Merge sector, cashflow, eps, inflation, consumer sentiment\n",
    "\n",
    "#stockpool_list_df on ticker\n",
    "#join_price on date/ticker\n",
    "#consolidate_cash on date/ticker\n",
    "#eps_consolidate on date/ticker\n",
    "#inflation_date on date\n",
    "#consumer_date on date\n",
    "\n",
    "\n",
    "\n",
    "#EH: Merge cash and sector \n",
    "consolidate_cash=consolidate_cash.reset_index()\n",
    "merge_cash_sector=pd.merge(consolidate_cash,stockpool_list_df[['ticker','Sector']],on='ticker',how='left')\n",
    "merge_cash_sector.rename(columns={'fiscalDateEnding':'date'},inplace=True)\n",
    "    \n",
    "#EH: Merge cash,sector,eps\n",
    "eps_consolidate=eps_consolidate.reset_index()\n",
    "eps_consolidate.rename(columns={'fiscalDateEnding':'date'},inplace=True)\n",
    "eps_consolidate['date']=pd.to_datetime(eps_consolidate['date'])\n",
    "merge_cash_sector_eps=pd.merge(merge_cash_sector,eps_consolidate.loc[:,'date':'ticker'],on=['date','ticker'],how='left')\n",
    "    \n",
    "#EH: Merge cash,sector,eps,inflation\n",
    "merge_cash_sector_eps_inf=pd.merge(merge_cash_sector_eps,inflation_prep,on='date',how='left')\n",
    "merge_cash_sector_eps_inf.rename(columns={'value':'inflation'},inplace=True)\n",
    "    \n",
    "#EH: Merge cash,sector,eps,inflation,consumer sentiment\n",
    "merge_cash_sector_eps_inf_cs=pd.merge(merge_cash_sector_eps_inf,consumer_prep,on='date',how='left')\n",
    "merge_cash_sector_eps_inf_cs.rename(columns={'value':'cs_sentiment'},inplace=True)\n",
    "\n",
    "#EH: Merge cash,sector,eps,inflation,consumer sentiment, ROI    \n",
    "merge_cash_sector_eps_inf_cs_roi=pd.merge(merge_cash_sector_eps_inf_cs,join_roi,left_on=['date','ticker'],right_on=['QEdate','ticker'],how='left')\n",
    "merge_cash_sector_eps_inf_cs_roi.drop(columns=['date_y'],inplace=True)\n",
    "merge_cash_sector_eps_inf_cs_roi=merge_cash_sector_eps_inf_cs_roi.replace('None',0)\n",
    "merge_cash_sector_eps_inf_cs_roi=merge_cash_sector_eps_inf_cs_roi.dropna()"
   ]
  },
  {
   "cell_type": "code",
   "execution_count": 50,
   "metadata": {
    "id": "qDPZA80IXw3f"
   },
   "outputs": [],
   "source": [
    "#EH:  update datatype to float\n",
    "merge_cash_sector_eps_inf_cs_roi.loc[:,\n",
    "    [\n",
    "     'operatingCashflow',\n",
    "     'paymentsForOperatingActivities',\n",
    "     'changeInOperatingLiabilities',\n",
    "     'changeInOperatingAssets',\n",
    "     'depreciationDepletionAndAmortization',\n",
    "     'capitalExpenditures',\n",
    "     'changeInReceivables',\n",
    "     'changeInInventory',\n",
    "     'profitLoss',\n",
    "     'cashflowFromInvestment',\n",
    "     'cashflowFromFinancing',\n",
    "     'proceedsFromRepaymentsOfShortTermDebt',\n",
    "     'paymentsForRepurchaseOfCommonStock',\n",
    "     'paymentsForRepurchaseOfEquity',\n",
    "     'dividendPayout',\n",
    "     'dividendPayoutCommonStock',\n",
    "     'proceedsFromIssuanceOfCommonStock',\n",
    "     'proceedsFromIssuanceOfLongTermDebtAndCapitalSecuritiesNet',\n",
    "     'proceedsFromRepurchaseOfEquity',\n",
    "     'changeInCashAndCashEquivalents',\n",
    "     'changeInExchangeRate',\n",
    "     'netIncome',\n",
    "     'reportedEPS',\n",
    "     'estimatedEPS',\n",
    "     'surprise',\n",
    "     'surprisePercentage',\n",
    "     'inflation',\n",
    "     'cs_sentiment']]=merge_cash_sector_eps_inf_cs_roi.loc[:,\n",
    "    [\n",
    "     'operatingCashflow',\n",
    "     'paymentsForOperatingActivities',\n",
    "     'changeInOperatingLiabilities',\n",
    "     'changeInOperatingAssets',\n",
    "     'depreciationDepletionAndAmortization',\n",
    "     'capitalExpenditures',\n",
    "     'changeInReceivables',\n",
    "     'changeInInventory',\n",
    "     'profitLoss',\n",
    "     'cashflowFromInvestment',\n",
    "     'cashflowFromFinancing',\n",
    "     'proceedsFromRepaymentsOfShortTermDebt',\n",
    "     'paymentsForRepurchaseOfCommonStock',\n",
    "     'paymentsForRepurchaseOfEquity',\n",
    "     'dividendPayout',\n",
    "     'dividendPayoutCommonStock',\n",
    "     'proceedsFromIssuanceOfCommonStock',\n",
    "     'proceedsFromIssuanceOfLongTermDebtAndCapitalSecuritiesNet',\n",
    "     'proceedsFromRepurchaseOfEquity',\n",
    "     'changeInCashAndCashEquivalents',\n",
    "     'changeInExchangeRate',\n",
    "     'netIncome',\n",
    "     'reportedEPS',\n",
    "     'estimatedEPS',\n",
    "     'surprise',\n",
    "     'surprisePercentage',\n",
    "     'inflation',\n",
    "     'cs_sentiment']].astype('float64')"
   ]
  },
  {
   "cell_type": "code",
   "execution_count": 51,
   "metadata": {
    "id": "Sr8DT8WgX75M"
   },
   "outputs": [],
   "source": [
    "#EH:  Export compiled data per sector\n",
    "#EH:  Cannot loop through sector to compile data/generate output due to API calls limitation per day.\n",
    "merge_cash_sector_eps_inf_cs_roi.to_csv('Data_Prep_Output/Health Technology.csv')"
   ]
  },
  {
   "cell_type": "markdown",
   "metadata": {
    "id": "Q6jRUoGEXjdq"
   },
   "source": []
  },
  {
   "cell_type": "code",
   "execution_count": null,
   "metadata": {
    "id": "WonZmEemHcX2"
   },
   "outputs": [],
   "source": []
  },
  {
   "cell_type": "code",
   "execution_count": null,
   "metadata": {
    "id": "Jrh1SmGuFEAm"
   },
   "outputs": [],
   "source": []
  }
 ],
 "metadata": {
  "colab": {
   "collapsed_sections": [],
   "name": "Fintech_project2_ROI_ML.ipynb",
   "provenance": [],
   "toc_visible": true
  },
  "kernelspec": {
   "display_name": "Python 3 (ipykernel)",
   "language": "python",
   "name": "python3"
  },
  "language_info": {
   "codemirror_mode": {
    "name": "ipython",
    "version": 3
   },
   "file_extension": ".py",
   "mimetype": "text/x-python",
   "name": "python",
   "nbconvert_exporter": "python",
   "pygments_lexer": "ipython3",
   "version": "3.7.11"
  }
 },
 "nbformat": 4,
 "nbformat_minor": 4
}
